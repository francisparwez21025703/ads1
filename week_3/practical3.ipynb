{
 "cells": [
  {
   "cell_type": "markdown",
   "id": "5c99f5d7",
   "metadata": {},
   "source": [
    "### Exercise 1\n",
    "\n",
    "Import modules, read the csv file ahd check its content."
   ]
  },
  {
   "cell_type": "code",
   "execution_count": null,
   "id": "b18441e1",
   "metadata": {},
   "outputs": [],
   "source": [
    "import pandas as pd\n",
    "import matplotlib.pyplot as plt\n",
    "\n",
    "\n",
    "# read file into dataframe and print\n",
    "df_countries = pd.read_csv(\"countries_top10.csv\")\n",
    "print(df_countries)\n",
    "print()\n"
   ]
  },
  {
   "cell_type": "markdown",
   "id": "03c5df7e",
   "metadata": {},
   "source": [
    "Calculate new columns and write into Excel file. Open the Excel file and have a look."
   ]
  },
  {
   "cell_type": "code",
   "execution_count": null,
   "id": "d57aa496",
   "metadata": {},
   "outputs": [],
   "source": [
    "# calculate GDP per head and population per km^2\n",
    "df_countries[\"GDP/head\"] = df_countries[\"GDP\"] / df_countries[\"Population\"]\n",
    "df_countries[\"Pop/km^2\"] = df_countries[\"Population\"] / df_countries[\"Area\"]\n",
    "print(df_countries)\n",
    "\n",
    "# write into Excel file\n",
    "df_countries.to_excel(\"countries_top10.xlsx\")\n"
   ]
  },
  {
   "cell_type": "markdown",
   "id": "0c385084",
   "metadata": {},
   "source": [
    "Now the plot. `\"bo\"` is indicating blue circles."
   ]
  },
  {
   "cell_type": "code",
   "execution_count": null,
   "id": "38a4d50f",
   "metadata": {},
   "outputs": [],
   "source": [
    "# scatter plot\n",
    "plt.figure()\n",
    "\n",
    "plt.plot(df_countries[\"Population\"], df_countries[\"GDP\"], \"bo\")\n",
    "\n",
    "plt.xlabel(\"Population\", fontsize=12)\n",
    "plt.ylabel(\"GDP\", fontsize=12)\n",
    "plt.title(\"Top 10 most populous countries\", size=15)\n",
    "\n",
    "plt.xlim(0.0, 1.5e9)\n",
    "\n",
    "plt.show()"
   ]
  },
  {
   "cell_type": "markdown",
   "id": "b9fe26cf",
   "metadata": {},
   "source": [
    "### Exercise 2"
   ]
  },
  {
   "cell_type": "code",
   "execution_count": null,
   "id": "35254db6",
   "metadata": {},
   "outputs": [],
   "source": [
    "import pandas as pd\n",
    "import matplotlib.pyplot as plt\n",
    "\n",
    "\n",
    "# read file into dataframe and print\n",
    "df_gdp = pd.read_excel(\"GDP_2015dollars.xls\")\n",
    "print(df_gdp)\n",
    "print()\n",
    "\n",
    "# line plots\n",
    "plt.figure()\n",
    "\n",
    "# plot the four countries with labels\n",
    "plt.plot(df_gdp[\"Year\"], df_gdp[\"China\"], \"b-\", label=\"China\")\n",
    "plt.plot(df_gdp[\"Year\"], df_gdp[\"Germany\"], \"g:\", label=\"Germany\")\n",
    "plt.plot(df_gdp[\"Year\"], df_gdp[\"Japan\"], \"r--\", label=\"Japan\")\n",
    "plt.plot(df_gdp[\"Year\"], df_gdp[\"United States\"], \"k-.\", label=\"USA\")\n",
    "\n",
    "# set labels and show the legend\n",
    "plt.xlabel(\"Year\")\n",
    "plt.ylabel(\"GDP (2015 $)\")\n",
    "plt.legend()\n",
    "\n",
    "plt.show()"
   ]
  },
  {
   "cell_type": "code",
   "execution_count": null,
   "id": "c70779fb",
   "metadata": {},
   "outputs": [],
   "source": []
  },
  {
   "cell_type": "code",
   "execution_count": null,
   "id": "270b4943",
   "metadata": {},
   "outputs": [],
   "source": []
  }
 ],
 "metadata": {
  "kernelspec": {
   "display_name": "Python 3 (ipykernel)",
   "language": "python",
   "name": "python3"
  },
  "language_info": {
   "codemirror_mode": {
    "name": "ipython",
    "version": 3
   },
   "file_extension": ".py",
   "mimetype": "text/x-python",
   "name": "python",
   "nbconvert_exporter": "python",
   "pygments_lexer": "ipython3",
   "version": "3.9.7"
  }
 },
 "nbformat": 4,
 "nbformat_minor": 5
}
