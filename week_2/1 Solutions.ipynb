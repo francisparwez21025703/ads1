{
 "cells": [
  {
   "cell_type": "markdown",
   "id": "9c3bc0e2",
   "metadata": {},
   "source": [
    "Question 1"
   ]
  },
  {
   "cell_type": "code",
   "execution_count": 1,
   "id": "1e4b36cc",
   "metadata": {},
   "outputs": [
    {
     "name": "stdout",
     "output_type": "stream",
     "text": [
      "Enter the time in HH:MM:SS format: 12:22:34\n",
      "hour = 12 minute = 22 second = 34\n"
     ]
    }
   ],
   "source": [
    "\n",
    "# separator needs to be specified\n",
    "shour, sminu, ssec = input(\"Enter the time in HH:MM:SS format: \").split(\":\")\n",
    "\n",
    "# use of min as name would overwrite the built-in function min()\n",
    "hour, minu, sec = int(shour), int(sminu), int(ssec)\n",
    "print (\"hour =\", hour, \"minute =\", minu, \"second =\", sec)\n"
   ]
  },
  {
   "cell_type": "markdown",
   "id": "d05f528a",
   "metadata": {},
   "source": [
    "Alternative"
   ]
  },
  {
   "cell_type": "code",
   "execution_count": 2,
   "id": "70a2a7db",
   "metadata": {},
   "outputs": [
    {
     "name": "stdout",
     "output_type": "stream",
     "text": [
      "Enter the time in HH:MM:SS format: 12:22:44\n",
      "hour = 12 minute = 22 second = 44\n"
     ]
    }
   ],
   "source": [
    "# store the complete time string first\n",
    "time = input(\"Enter the time in HH:MM:SS format: \")\n",
    "# separator needs to be specified\n",
    "shour, sminu, ssec = time.split(\":\")\n",
    "\n",
    "# use of min as name would overwrite the built-in function min()\n",
    "hour, minu, sec = int(shour), int(sminu), int(ssec)\n",
    "print (\"hour =\", hour, \"minute =\", minu, \"second =\", sec)\n"
   ]
  },
  {
   "cell_type": "markdown",
   "id": "9cb0507b",
   "metadata": {},
   "source": [
    "Question 2"
   ]
  },
  {
   "cell_type": "code",
   "execution_count": 3,
   "id": "4320d2f7",
   "metadata": {},
   "outputs": [
    {
     "name": "stdout",
     "output_type": "stream",
     "text": [
      "radius = 2   area = 50.26548245743669 volume = 33.510321638291124\n",
      "radius = 4   area = 201.06192982974676 volume = 268.082573106329\n",
      "radius = 6   area = 452.3893421169302 volume = 904.7786842338603\n",
      "radius = 8   area = 804.247719318987 volume = 2144.660584850632\n",
      "radius = 10   area = 1256.6370614359173 volume = 4188.790204786391\n",
      "radius = 12   area = 1809.5573684677208 volume = 7238.229473870882\n",
      "radius = 14   area = 2463.0086404143976 volume = 11494.040321933855\n",
      "radius = 16   area = 3216.990877275948 volume = 17157.284678805056\n",
      "radius = 18   area = 4071.5040790523717 volume = 24429.02447431423\n",
      "radius = 20   area = 5026.548245743669 volume = 33510.32163829113\n"
     ]
    }
   ],
   "source": [
    "import numpy as np\n",
    "\n",
    "for radius in range(2, 21, 2):  # stop needs to be 21 or 22\n",
    "    area = 4.0 * np.pi * radius**2\n",
    "    volume = 4.0 / 3.0 * np.pi * radius**3\n",
    "    print (\"radius =\", radius, \"  area =\", area, \"volume =\", volume)"
   ]
  },
  {
   "cell_type": "markdown",
   "id": "358004bc",
   "metadata": {},
   "source": [
    "Question 3"
   ]
  },
  {
   "cell_type": "code",
   "execution_count": 4,
   "id": "567bc266",
   "metadata": {},
   "outputs": [
    {
     "name": "stdout",
     "output_type": "stream",
     "text": [
      "Enter a number: 1\n",
      "Enter a number: 2\n",
      "Enter a number: 3\n",
      "The sum is 6.0\n",
      "The average is  2.0\n"
     ]
    }
   ],
   "source": [
    "sum = 0.0  #  needs to have a value before the loop starts\n",
    "\n",
    "for i in range (3):\n",
    "    num = float(input(\"Enter a number: \"))\n",
    "    sum = sum + num\n",
    "\n",
    "print (\"The sum is\", sum)\n",
    "print (\"The average is \", sum/3.0)"
   ]
  },
  {
   "cell_type": "markdown",
   "id": "82f5e75c",
   "metadata": {},
   "source": [
    "Question 4"
   ]
  },
  {
   "cell_type": "code",
   "execution_count": 5,
   "id": "6b73c8b3",
   "metadata": {},
   "outputs": [
    {
     "name": "stdout",
     "output_type": "stream",
     "text": [
      "Enter radius or diameter 2\n",
      "Enter r for radius or d for diameter d\n",
      "The volume is 4.1887902047863905\n"
     ]
    }
   ],
   "source": [
    "import numpy as np\n",
    "\n",
    "\n",
    "def vol_radius(r):\n",
    "    \"\"\" Calculates the volume of a sphere from its radius \"\"\"\n",
    "    \n",
    "    vol = 4. / 3. * np.pi *r**3\n",
    "    return vol\n",
    "\n",
    "\n",
    "def vol_diameter(d):\n",
    "    \"\"\" Calculates the volume of a sphere from its diameter \"\"\"\n",
    "    \n",
    "    vol = 4. / 3. * np.pi *(d/2.0)**3\n",
    "    return vol\n",
    "    \n",
    "# main program starts here\n",
    "x = float(input(\"Enter radius or diameter \" ))\n",
    "choice = input(\"Enter r for radius or d for diameter \" )\n",
    "\n",
    "# nothing will happen if input is not r or d\n",
    "if choice == \"r\":\n",
    "    print(\"The volume is\", vol_radius(x))\n",
    "elif choice == \"d\":\n",
    "    print(\"The volume is\", vol_diameter(x))\n",
    "    "
   ]
  },
  {
   "cell_type": "code",
   "execution_count": 7,
   "id": "64bcd3fb",
   "metadata": {},
   "outputs": [
    {
     "name": "stdout",
     "output_type": "stream",
     "text": [
      "Enter radius or diameter 4\n",
      "Enter r for radius or d for diameter d\n",
      "The volume is 33.510321638291124\n",
      "\n",
      "Enter radius or diameter 4\n",
      "Enter r for radius or d for diameter s\n",
      "\n"
     ]
    }
   ],
   "source": [
    "import numpy as np\n",
    "\n",
    "\n",
    "def vol_radius(r):\n",
    "    \"\"\" Calculates the volume of a sphere from its radius \"\"\"\n",
    "    \n",
    "    vol = 4. / 3. * np.pi *r**3\n",
    "    return vol\n",
    "\n",
    "\n",
    "def vol_diameter(d):\n",
    "    \"\"\" Calculates the volume of a sphere from its diameter \"\"\"\n",
    "    \n",
    "    vol = 4. / 3. * np.pi *(d/2.0)**3\n",
    "    return vol\n",
    "    \n",
    "# main program starts here\n",
    "choice = \"d\"   # choice needs to preset with a value giving a True value for while\n",
    "\n",
    "while choice == \"d\" or choice == \"r\":\n",
    "\n",
    "    x = float(input(\"Enter radius or diameter \" ))\n",
    "    choice = input(\"Enter r for radius or d for diameter \" )\n",
    "\n",
    "    # nothing will happen if input is not r or d\n",
    "    if choice == \"r\":\n",
    "        print(\"The volume is\", vol_radius(x))\n",
    "    elif choice == \"d\":\n",
    "        print(\"The volume is\", vol_diameter(x))\n",
    "    print()     # empty line\n",
    "    "
   ]
  },
  {
   "cell_type": "markdown",
   "id": "a4d1f762",
   "metadata": {},
   "source": [
    "Question 6"
   ]
  },
  {
   "cell_type": "code",
   "execution_count": 8,
   "id": "fe81fcb9",
   "metadata": {},
   "outputs": [
    {
     "name": "stdout",
     "output_type": "stream",
     "text": [
      "Enter a number: 55\n",
      "n! = 12696403353658275925965100847566516959580321051449436762275840000000000000\n"
     ]
    }
   ],
   "source": [
    "def factorial(n):\n",
    "    \"\"\"\n",
    "    Returns the factorial of the argument using a simple loop\n",
    "    \"\"\"\n",
    "    \n",
    "    fac = 1\n",
    "    for i in range(1, n+1):  # start at 1 and multiply up to n\n",
    "        fac = fac * i\n",
    "    return fac\n",
    "    \n",
    "# main program\n",
    "number = int(input(\"Enter a number: \"))\n",
    "print (\"n! =\", factorial(number))\n"
   ]
  },
  {
   "cell_type": "markdown",
   "id": "082fa334",
   "metadata": {},
   "source": [
    "Question 7"
   ]
  },
  {
   "cell_type": "code",
   "execution_count": 9,
   "id": "d6472329",
   "metadata": {},
   "outputs": [
    {
     "name": "stdout",
     "output_type": "stream",
     "text": [
      "y\n",
      "H\n",
      "e\n"
     ]
    }
   ],
   "source": [
    "text = \"University of Hertfordshire\"\n",
    "\n",
    "print(text[9])\n",
    "print(text[14])\n",
    "print(text[-1])\n"
   ]
  },
  {
   "cell_type": "markdown",
   "id": "cde2c478",
   "metadata": {},
   "source": [
    "Question 8"
   ]
  },
  {
   "cell_type": "code",
   "execution_count": 10,
   "id": "1fba180d",
   "metadata": {},
   "outputs": [
    {
     "name": "stdout",
     "output_type": "stream",
     "text": [
      "Hertfordshire\n",
      "Hertfordshire\n"
     ]
    }
   ],
   "source": [
    "text = \"University of Hertfordshire\"\n",
    "\n",
    "print(text[14:27])\n",
    "\n",
    "# alternative\n",
    "print(text[14:])\n"
   ]
  },
  {
   "cell_type": "markdown",
   "id": "0bc4662e",
   "metadata": {},
   "source": [
    "Question 9"
   ]
  },
  {
   "cell_type": "code",
   "execution_count": 11,
   "id": "2b415d99",
   "metadata": {},
   "outputs": [
    {
     "name": "stdout",
     "output_type": "stream",
     "text": [
      "['bread', 'butter', 'boomerang', 'beans', 'broccoli']\n",
      "\n",
      "beans\n",
      "\n",
      "['boomerang', 'beans']\n",
      "\n",
      "['bread', 'butter', 'boomerang', 'beans', 'blueberry']\n",
      "\n",
      "['bread', 'butter', 'boomerang', 'beans', 'blackcurrant']\n",
      "\n",
      "['bread', 'butter', 'boomerang', 'beans', 'blackcurrant', 'banana']\n"
     ]
    }
   ],
   "source": [
    "# part a\n",
    "shopping = [\"bread\", \"butter\", \"boomerang\", \"beans\", \"broccoli\"]\n",
    "print (shopping)\n",
    "print()\n",
    "\n",
    "# part b\n",
    "# remember Python counts from 0\n",
    "print (shopping[3])\n",
    "print()\n",
    "\n",
    "# part c\n",
    "# numbering for slicing different from indexing. Confusing, I know.\n",
    "print (shopping[2:4])\n",
    "print()\n",
    "\n",
    "# part d\n",
    "shopping[4] = \"blueberry\"\n",
    "print (shopping)\n",
    "print()\n",
    "\n",
    "# alternative way\n",
    "shopping[-1] = \"blackcurrant\"\n",
    "print (shopping)    \n",
    "print()\n",
    "\n",
    "# part e\n",
    "shopping.append(\"banana\")\n",
    "print (shopping)\n",
    "\n"
   ]
  },
  {
   "cell_type": "code",
   "execution_count": null,
   "id": "9032f050",
   "metadata": {},
   "outputs": [],
   "source": []
  }
 ],
 "metadata": {
  "kernelspec": {
   "display_name": "Python 3 (ipykernel)",
   "language": "python",
   "name": "python3"
  },
  "language_info": {
   "codemirror_mode": {
    "name": "ipython",
    "version": 3
   },
   "file_extension": ".py",
   "mimetype": "text/x-python",
   "name": "python",
   "nbconvert_exporter": "python",
   "pygments_lexer": "ipython3",
   "version": "3.9.7"
  }
 },
 "nbformat": 4,
 "nbformat_minor": 5
}
